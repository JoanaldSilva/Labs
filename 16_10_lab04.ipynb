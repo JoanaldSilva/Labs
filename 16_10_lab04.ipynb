{
 "cells": [
  {
   "cell_type": "code",
   "execution_count": 6,
   "metadata": {},
   "outputs": [
    {
     "name": "stdout",
     "output_type": "stream",
     "text": [
      "[1000.0, 1100.0, 1210.0000000000002, 1331.0000000000005, 1464.1000000000004, 1610.5100000000004]\n"
     ]
    }
   ],
   "source": [
    "'''Create a list of volume of sales considering the following assumptions:\n",
    "inicial valueSales =1000\n",
    "anual growth rate = 10%\n",
    "number of years = 6 '''\n",
    "\n",
    "VolumeofSalesList = []\n",
    "for i in range (0,6):\n",
    "    VolumeofSalesList.append(1000*(1+0.1)**i)\n",
    "print(VolumeofSalesList)"
   ]
  },
  {
   "cell_type": "code",
   "execution_count": 7,
   "metadata": {},
   "outputs": [
    {
     "name": "stdout",
     "output_type": "stream",
     "text": [
      "[300.00000000000006, 330.00000000000006, 363.0000000000001, 399.3000000000002, 439.2300000000002, 483.1530000000002]\n"
     ]
    }
   ],
   "source": [
    "margin=0.7\n",
    "costList=[]\n",
    "for i in VolumeofSalesList:\n",
    "        costList.append(i*(1-margin))\n",
    "print(costList)"
   ]
  },
  {
   "cell_type": "code",
   "execution_count": 8,
   "metadata": {},
   "outputs": [
    {
     "name": "stdout",
     "output_type": "stream",
     "text": [
      "[700.0, 770.0, 847.0000000000001, 931.7000000000003, 1024.8700000000001, 1127.3570000000002]\n"
     ]
    }
   ],
   "source": [
    "'''\n",
    "Create a list with the profit based on the last 2 exercises (profit = sales - cost)\n",
    "'''\n",
    "\n",
    "profitList = []\n",
    "for i in VolumeofSalesList:\n",
    "        profitList.append(i*margin)\n",
    "print(profitList)\n",
    "\n",
    "\n"
   ]
  },
  {
   "cell_type": "code",
   "execution_count": 14,
   "metadata": {},
   "outputs": [
    {
     "name": "stdout",
     "output_type": "stream",
     "text": [
      "[200.0, 270.0, 347.0000000000001, 431.7000000000003, 524.8700000000001, 627.3570000000002]\n"
     ]
    }
   ],
   "source": [
    "'''\n",
    "Calculete a newProfit suposing 500 of fixed costs\n",
    "'''\n",
    "Margin = 0.7\n",
    "fixedCost = 500\n",
    "newProfit = []\n",
    "\n",
    "for i in VolumeofSalesList:\n",
    "    newProfit.append(i*Margin-fixedCost)\n",
    "print(newProfit)\n",
    "    \n",
    "\n"
   ]
  },
  {
   "cell_type": "code",
   "execution_count": 15,
   "metadata": {},
   "outputs": [
    {
     "name": "stdout",
     "output_type": "stream",
     "text": [
      "[833, 236, 232, 1955, 564, 1349]\n"
     ]
    }
   ],
   "source": [
    "a=200\n",
    "b=2000\n",
    "newyears=6\n",
    "import random \n",
    "newSales = []\n",
    "for i in range (newyears):\n",
    "    newSales.append(random.randint(a,b))\n",
    "print(newSales)\n",
    "    "
   ]
  },
  {
   "cell_type": "code",
   "execution_count": 19,
   "metadata": {},
   "outputs": [
    {
     "name": "stdout",
     "output_type": "stream",
     "text": [
      "[-250.10000000000002, -429.2, -430.4, 86.5, -330.8, -95.30000000000001]\n"
     ]
    }
   ],
   "source": [
    "'''\n",
    "Create a new list with profits (newProfit). With margin 70% with fixed costs stated previously\n",
    "'''\n",
    "margin = 0.3\n",
    "fixedCost = 500\n",
    "newProfit1 = []\n",
    "for i in range (newyears) :\n",
    "    newProfit1.append((newSales[i]*margin)-fixedCost)\n",
    "print(newProfit1)"
   ]
  },
  {
   "cell_type": "code",
   "execution_count": 21,
   "metadata": {},
   "outputs": [
    {
     "name": "stdout",
     "output_type": "stream",
     "text": [
      "16.666666666666664\n"
     ]
    }
   ],
   "source": [
    "'''\n",
    "What is the percentage of years having profits in the total?\n",
    "'''\n",
    "perc = []\n",
    "for i in range (newyears) : \n",
    "    if newProfit1 [i]>0 :\n",
    "        perc.append(i)\n",
    "profit = len(perc)/len(newProfit1)*100\n",
    "print(profit)\n"
   ]
  },
  {
   "cell_type": "code",
   "execution_count": null,
   "metadata": {},
   "outputs": [],
   "source": []
  }
 ],
 "metadata": {
  "kernelspec": {
   "display_name": "Python 3",
   "language": "python",
   "name": "python3"
  },
  "language_info": {
   "codemirror_mode": {
    "name": "ipython",
    "version": 3
   },
   "file_extension": ".py",
   "mimetype": "text/x-python",
   "name": "python",
   "nbconvert_exporter": "python",
   "pygments_lexer": "ipython3",
   "version": "3.7.3"
  }
 },
 "nbformat": 4,
 "nbformat_minor": 2
}
