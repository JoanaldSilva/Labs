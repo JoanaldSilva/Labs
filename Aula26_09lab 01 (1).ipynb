{
 "cells": [
  {
   "cell_type": "code",
   "execution_count": 2,
   "metadata": {},
   "outputs": [
    {
     "data": {
      "text/plain": [
       "True"
      ]
     },
     "execution_count": 2,
     "metadata": {},
     "output_type": "execute_result"
    }
   ],
   "source": [
    "n = 5\n",
    "n == int (n)"
   ]
  },
  {
   "cell_type": "code",
   "execution_count": 3,
   "metadata": {},
   "outputs": [
    {
     "data": {
      "text/plain": [
       "False"
      ]
     },
     "execution_count": 3,
     "metadata": {},
     "output_type": "execute_result"
    }
   ],
   "source": [
    "'''\n",
    "value of a even number\n",
    "'''\n",
    "n = 5\n",
    "n%2 == 0"
   ]
  },
  {
   "cell_type": "code",
   "execution_count": 4,
   "metadata": {},
   "outputs": [
    {
     "data": {
      "text/plain": [
       "False"
      ]
     },
     "execution_count": 4,
     "metadata": {},
     "output_type": "execute_result"
    }
   ],
   "source": [
    "'''\n",
    "Two number the first bigger than the second\n",
    "'''\n",
    "n=3\n",
    "m=4\n",
    "n > m"
   ]
  },
  {
   "cell_type": "code",
   "execution_count": 5,
   "metadata": {},
   "outputs": [
    {
     "data": {
      "text/plain": [
       "True"
      ]
     },
     "execution_count": 5,
     "metadata": {},
     "output_type": "execute_result"
    }
   ],
   "source": [
    "'''\n",
    "One value is multiple of another\n",
    "'''\n",
    "n= 6\n",
    "m= 3\n",
    "m/n == int (m/n) or n/m == int(n/m)"
   ]
  },
  {
   "cell_type": "code",
   "execution_count": 6,
   "metadata": {},
   "outputs": [
    {
     "name": "stdout",
     "output_type": "stream",
     "text": [
      "18.0\n"
     ]
    }
   ],
   "source": [
    "'''\n",
    "Calculate the interest rate earn by an investor that invested a capital of 200 during 3 years with an interest rate of 3%\n",
    "'''\n",
    "Capital = 200\n",
    "Time = 3\n",
    "Rate = 0.03\n",
    "\n",
    "Interest = Capital*Time*Rate\n",
    "\n",
    "print(Interest)"
   ]
  },
  {
   "cell_type": "code",
   "execution_count": 7,
   "metadata": {},
   "outputs": [
    {
     "name": "stdout",
     "output_type": "stream",
     "text": [
      "218.5454\n"
     ]
    }
   ],
   "source": [
    "'''\n",
    "Capital that an investor obtained after investing a capital of 200 during 3 years with an interest rate of 3%\n",
    "'''\n",
    "\n",
    "Capital = 200\n",
    "Time = 3\n",
    "Rate = 0.03\n",
    "\n",
    "Interest = Capital * (1+Rate)**Time\n",
    "\n",
    "print(Interest)"
   ]
  },
  {
   "cell_type": "code",
   "execution_count": 8,
   "metadata": {},
   "outputs": [
    {
     "name": "stdout",
     "output_type": "stream",
     "text": [
      "21.258503401360546\n"
     ]
    }
   ],
   "source": [
    "'''\n",
    " Calculate your BMI (Body Mass Index)\n",
    "'''\n",
    "mass = 60\n",
    "Height = 1.68\n",
    "\n",
    "BMI = mass/(Height**2)\n",
    "\n",
    "print(BMI)"
   ]
  },
  {
   "cell_type": "code",
   "execution_count": 9,
   "metadata": {},
   "outputs": [
    {
     "name": "stdout",
     "output_type": "stream",
     "text": [
      "1.618033988749895\n"
     ]
    }
   ],
   "source": [
    "'''\n",
    "Calcule the Golden ration\n",
    "'''\n",
    "gr = (1+(5)**(1/2))/2\n",
    "      \n",
    "print(gr)"
   ]
  },
  {
   "cell_type": "code",
   "execution_count": null,
   "metadata": {},
   "outputs": [
    {
     "name": "stdout",
     "output_type": "stream",
     "text": [
      "1.618033988749895\n"
     ]
    }
   ],
   "source": [
    "'''\n",
    "Calcule the Golden ration, library of math\n",
    "'''\n",
    "import math\n",
    "gr=(1+math.sqrt(5))/2\n",
    "\n",
    "print(gr)"
   ]
  },
  {
   "cell_type": "code",
   "execution_count": null,
   "metadata": {},
   "outputs": [
    {
     "name": "stdout",
     "output_type": "stream",
     "text": [
      "3139.440301519393\n"
     ]
    }
   ],
   "source": [
    "'''\n",
    "Calculete the NPV (Net present value) of an investment, considering an initial investment of 10000, the following Cashflows\n",
    "2000,3000, 4000, 4000 and 5000 and a discount rate of 10%.\n",
    "'''\n",
    "FV1= 2000\n",
    "FV2= 3000\n",
    "FV3= 4000\n",
    "FV4= 4000\n",
    "FV5= 5000\n",
    "k= 0.1\n",
    "I= 10000\n",
    "\n",
    "NPV= FV1/(1+k)**1 + FV2/(1+k)**2 + FV3/(1+k)**3 + FV4/(1+k)**4 + FV5/(1+k)**5 - I\n",
    "\n",
    "print(NPV)"
   ]
  },
  {
   "cell_type": "code",
   "execution_count": null,
   "metadata": {},
   "outputs": [],
   "source": [
    "'''\n",
    "Ask the user to insert name and age. Calculate the the birth. Print a result saying the 'this person was born in'\n",
    "'''\n",
    "\n",
    "n = input(\"Please enter your name \")\n",
    "m = input(\"Please enter your age \")\n",
    "year = 2019\n",
    "\n",
    "Birth =year - int(m)\n",
    "print(\"This person was born in \" + str(Birth) )\n",
    "\n"
   ]
  },
  {
   "cell_type": "code",
   "execution_count": null,
   "metadata": {},
   "outputs": [],
   "source": [
    "'''\n",
    "Ask the user to insert name and age. Calculate the the birth. Print a result saying the 'this person was born in' Library\n",
    "'''\n",
    "from datetime import date\n",
    "today = date.today()\n",
    "today.year\n",
    "age = input(\"Please enter your age \")\n",
    "name = input(\"Enter your name \")\n",
    "birth = today.year - int(age)\n",
    "print(\"This person was born in \" + str(birth))\n"
   ]
  },
  {
   "cell_type": "code",
   "execution_count": null,
   "metadata": {},
   "outputs": [],
   "source": [
    "'''\n",
    " Ask the user to insert forenames, surnames. create a new variable (name) with your complete name\n",
    "'''\n",
    "forenames = input(\"Enter your fournames \")\n",
    "surnames = input(\"Enter your surnames \")\n",
    "name= str(forenames) +\" \"+ str(surnames)\n",
    "namecapitalized=name.capitalize()\n",
    "nameTitle=name.title()\n",
    "nameSmall=name.lower()\n",
    "NameBig=name.upper()\n",
    "print(namecapitalized)\n",
    "print(nameTitle)\n",
    "print(nameSmall)\n",
    "print(nameBig)"
   ]
  },
  {
   "cell_type": "code",
   "execution_count": null,
   "metadata": {},
   "outputs": [],
   "source": [
    "random = \"vhfeieghjtudrtayhtyda\"\n",
    "\n",
    "str.find(random,\"da\")"
   ]
  },
  {
   "cell_type": "code",
   "execution_count": null,
   "metadata": {},
   "outputs": [],
   "source": []
  }
 ],
 "metadata": {
  "kernelspec": {
   "display_name": "Python 3",
   "language": "python",
   "name": "python3"
  },
  "language_info": {
   "codemirror_mode": {
    "name": "ipython",
    "version": 3
   },
   "file_extension": ".py",
   "mimetype": "text/x-python",
   "name": "python",
   "nbconvert_exporter": "python",
   "pygments_lexer": "ipython3",
   "version": "3.7.3"
  }
 },
 "nbformat": 4,
 "nbformat_minor": 2
}
